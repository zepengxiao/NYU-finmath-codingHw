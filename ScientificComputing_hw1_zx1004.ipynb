{
 "cells": [
  {
   "cell_type": "code",
   "execution_count": 1,
   "metadata": {},
   "outputs": [
    {
     "name": "stdout",
     "output_type": "stream",
     "text": [
      "Populating the interactive namespace from numpy and matplotlib\n"
     ]
    }
   ],
   "source": [
    "%pylab inline\n",
    "\n",
    "import sympy as sp\n",
    "import numpy as np\n",
    "import pandas as pd\n",
    "import matplotlib.pyplot as plt\n",
    "import fmt"
   ]
  },
  {
   "cell_type": "markdown",
   "metadata": {
    "slideshow": {
     "slide_type": "slide"
    }
   },
   "source": [
    "# Homework Set 1"
   ]
  },
  {
   "cell_type": "markdown",
   "metadata": {},
   "source": [
    "## Problem 0:\n",
    "\n",
    "I have read and understood the [class policy]( https://nbviewer.jupyter.org/github/yadongli/nyumath2048/blob/master/ClassPolicies.ipynb), especially the section about cheating. Please type your full names below to acknowledge:"
   ]
  },
  {
   "cell_type": "markdown",
   "metadata": {},
   "source": [
    "### Full name: Zepeng Xiao"
   ]
  },
  {
   "cell_type": "markdown",
   "metadata": {},
   "source": [
    "## Problem 1:\n",
    "\n",
    "Set up your Python and IPython notebook environment and show case the following IPython functionalities:\n",
    "\n",
    "2. use ? or help() to show comments (docstring) of a python function\n",
    "3. use %pdb to debug the following code, show how to print out the value of b inside function bug() using the debugger"
   ]
  },
  {
   "cell_type": "code",
   "execution_count": 2,
   "metadata": {},
   "outputs": [
    {
     "data": {
      "text/plain": [
       "'3.6.8'"
      ]
     },
     "execution_count": 2,
     "metadata": {},
     "output_type": "execute_result"
    }
   ],
   "source": [
    "from platform import python_version\n",
    "python_version()"
   ]
  },
  {
   "cell_type": "markdown",
   "metadata": {},
   "source": [
    "### Problem 1 Solution:"
   ]
  },
  {
   "cell_type": "code",
   "execution_count": 3,
   "metadata": {},
   "outputs": [
    {
     "name": "stdout",
     "output_type": "stream",
     "text": [
      "Help on built-in function len in module builtins:\n",
      "\n",
      "len(obj, /)\n",
      "    Return the number of items in a container.\n",
      "\n"
     ]
    }
   ],
   "source": [
    "help(len)"
   ]
  },
  {
   "cell_type": "markdown",
   "metadata": {},
   "source": [
    "2. <br>\n",
    "\n",
    "The comments of the builtin python function $\\textbf{\\len()}$ is showed above. <br>\n",
    "\n",
    "For example: $\\quad \\text{len([1, 2, 3])} \\ \\to 3$"
   ]
  },
  {
   "cell_type": "code",
   "execution_count": 5,
   "metadata": {},
   "outputs": [
    {
     "name": "stdout",
     "output_type": "stream",
     "text": [
      "Automatic pdb calling has been turned ON\n"
     ]
    },
    {
     "ename": "ZeroDivisionError",
     "evalue": "division by zero",
     "output_type": "error",
     "traceback": [
      "\u001b[1;31m---------------------------------------------------------------------------\u001b[0m",
      "\u001b[1;31mZeroDivisionError\u001b[0m                         Traceback (most recent call last)",
      "\u001b[1;32m<ipython-input-5-2030d3688080>\u001b[0m in \u001b[0;36m<module>\u001b[1;34m\u001b[0m\n\u001b[0;32m      7\u001b[0m     \u001b[1;32mreturn\u001b[0m \u001b[0mdiv\u001b[0m\u001b[1;33m(\u001b[0m\u001b[0ma\u001b[0m\u001b[1;33m,\u001b[0m \u001b[0mb\u001b[0m\u001b[1;33m)\u001b[0m\u001b[1;33m\u001b[0m\u001b[1;33m\u001b[0m\u001b[0m\n\u001b[0;32m      8\u001b[0m \u001b[1;33m\u001b[0m\u001b[0m\n\u001b[1;32m----> 9\u001b[1;33m \u001b[0mbug\u001b[0m\u001b[1;33m(\u001b[0m\u001b[1;36m3\u001b[0m\u001b[1;33m,\u001b[0m \u001b[1;36m0\u001b[0m\u001b[1;33m)\u001b[0m\u001b[1;33m\u001b[0m\u001b[1;33m\u001b[0m\u001b[0m\n\u001b[0m",
      "\u001b[1;32m<ipython-input-5-2030d3688080>\u001b[0m in \u001b[0;36mbug\u001b[1;34m(a, b)\u001b[0m\n\u001b[0;32m      5\u001b[0m \u001b[1;33m\u001b[0m\u001b[0m\n\u001b[0;32m      6\u001b[0m \u001b[1;32mdef\u001b[0m \u001b[0mbug\u001b[0m\u001b[1;33m(\u001b[0m\u001b[0ma\u001b[0m\u001b[1;33m,\u001b[0m \u001b[0mb\u001b[0m\u001b[1;33m)\u001b[0m \u001b[1;33m:\u001b[0m\u001b[1;33m\u001b[0m\u001b[1;33m\u001b[0m\u001b[0m\n\u001b[1;32m----> 7\u001b[1;33m     \u001b[1;32mreturn\u001b[0m \u001b[0mdiv\u001b[0m\u001b[1;33m(\u001b[0m\u001b[0ma\u001b[0m\u001b[1;33m,\u001b[0m \u001b[0mb\u001b[0m\u001b[1;33m)\u001b[0m\u001b[1;33m\u001b[0m\u001b[1;33m\u001b[0m\u001b[0m\n\u001b[0m\u001b[0;32m      8\u001b[0m \u001b[1;33m\u001b[0m\u001b[0m\n\u001b[0;32m      9\u001b[0m \u001b[0mbug\u001b[0m\u001b[1;33m(\u001b[0m\u001b[1;36m3\u001b[0m\u001b[1;33m,\u001b[0m \u001b[1;36m0\u001b[0m\u001b[1;33m)\u001b[0m\u001b[1;33m\u001b[0m\u001b[1;33m\u001b[0m\u001b[0m\n",
      "\u001b[1;32m<ipython-input-5-2030d3688080>\u001b[0m in \u001b[0;36mdiv\u001b[1;34m(a, b)\u001b[0m\n\u001b[0;32m      2\u001b[0m \u001b[1;33m\u001b[0m\u001b[0m\n\u001b[0;32m      3\u001b[0m \u001b[1;32mdef\u001b[0m \u001b[0mdiv\u001b[0m\u001b[1;33m(\u001b[0m\u001b[0ma\u001b[0m\u001b[1;33m,\u001b[0m \u001b[0mb\u001b[0m\u001b[1;33m)\u001b[0m \u001b[1;33m:\u001b[0m\u001b[1;33m\u001b[0m\u001b[1;33m\u001b[0m\u001b[0m\n\u001b[1;32m----> 4\u001b[1;33m     \u001b[1;32mreturn\u001b[0m \u001b[0ma\u001b[0m\u001b[1;33m/\u001b[0m\u001b[0mb\u001b[0m\u001b[1;33m\u001b[0m\u001b[1;33m\u001b[0m\u001b[0m\n\u001b[0m\u001b[0;32m      5\u001b[0m \u001b[1;33m\u001b[0m\u001b[0m\n\u001b[0;32m      6\u001b[0m \u001b[1;32mdef\u001b[0m \u001b[0mbug\u001b[0m\u001b[1;33m(\u001b[0m\u001b[0ma\u001b[0m\u001b[1;33m,\u001b[0m \u001b[0mb\u001b[0m\u001b[1;33m)\u001b[0m \u001b[1;33m:\u001b[0m\u001b[1;33m\u001b[0m\u001b[1;33m\u001b[0m\u001b[0m\n",
      "\u001b[1;31mZeroDivisionError\u001b[0m: division by zero"
     ]
    },
    {
     "name": "stdout",
     "output_type": "stream",
     "text": [
      "> \u001b[1;32m<ipython-input-5-2030d3688080>\u001b[0m(4)\u001b[0;36mdiv\u001b[1;34m()\u001b[0m\n",
      "\u001b[1;32m      2 \u001b[1;33m\u001b[1;33m\u001b[0m\u001b[0m\n",
      "\u001b[0m\u001b[1;32m      3 \u001b[1;33m\u001b[1;32mdef\u001b[0m \u001b[0mdiv\u001b[0m\u001b[1;33m(\u001b[0m\u001b[0ma\u001b[0m\u001b[1;33m,\u001b[0m \u001b[0mb\u001b[0m\u001b[1;33m)\u001b[0m \u001b[1;33m:\u001b[0m\u001b[1;33m\u001b[0m\u001b[1;33m\u001b[0m\u001b[0m\n",
      "\u001b[0m\u001b[1;32m----> 4 \u001b[1;33m    \u001b[1;32mreturn\u001b[0m \u001b[0ma\u001b[0m\u001b[1;33m/\u001b[0m\u001b[0mb\u001b[0m\u001b[1;33m\u001b[0m\u001b[1;33m\u001b[0m\u001b[0m\n",
      "\u001b[0m\u001b[1;32m      5 \u001b[1;33m\u001b[1;33m\u001b[0m\u001b[0m\n",
      "\u001b[0m\u001b[1;32m      6 \u001b[1;33m\u001b[1;32mdef\u001b[0m \u001b[0mbug\u001b[0m\u001b[1;33m(\u001b[0m\u001b[0ma\u001b[0m\u001b[1;33m,\u001b[0m \u001b[0mb\u001b[0m\u001b[1;33m)\u001b[0m \u001b[1;33m:\u001b[0m\u001b[1;33m\u001b[0m\u001b[1;33m\u001b[0m\u001b[0m\n",
      "\u001b[0m\n",
      "ipdb> up\n",
      "> \u001b[1;32m<ipython-input-5-2030d3688080>\u001b[0m(7)\u001b[0;36mbug\u001b[1;34m()\u001b[0m\n",
      "\u001b[1;32m      5 \u001b[1;33m\u001b[1;33m\u001b[0m\u001b[0m\n",
      "\u001b[0m\u001b[1;32m      6 \u001b[1;33m\u001b[1;32mdef\u001b[0m \u001b[0mbug\u001b[0m\u001b[1;33m(\u001b[0m\u001b[0ma\u001b[0m\u001b[1;33m,\u001b[0m \u001b[0mb\u001b[0m\u001b[1;33m)\u001b[0m \u001b[1;33m:\u001b[0m\u001b[1;33m\u001b[0m\u001b[1;33m\u001b[0m\u001b[0m\n",
      "\u001b[0m\u001b[1;32m----> 7 \u001b[1;33m    \u001b[1;32mreturn\u001b[0m \u001b[0mdiv\u001b[0m\u001b[1;33m(\u001b[0m\u001b[0ma\u001b[0m\u001b[1;33m,\u001b[0m \u001b[0mb\u001b[0m\u001b[1;33m)\u001b[0m\u001b[1;33m\u001b[0m\u001b[1;33m\u001b[0m\u001b[0m\n",
      "\u001b[0m\u001b[1;32m      8 \u001b[1;33m\u001b[1;33m\u001b[0m\u001b[0m\n",
      "\u001b[0m\u001b[1;32m      9 \u001b[1;33m\u001b[0mbug\u001b[0m\u001b[1;33m(\u001b[0m\u001b[1;36m3\u001b[0m\u001b[1;33m,\u001b[0m \u001b[1;36m0\u001b[0m\u001b[1;33m)\u001b[0m\u001b[1;33m\u001b[0m\u001b[1;33m\u001b[0m\u001b[0m\n",
      "\u001b[0m\n",
      "ipdb> display b\n",
      "display b: 0\n",
      "ipdb> q\n"
     ]
    }
   ],
   "source": [
    "%pdb on \n",
    "\n",
    "def div(a, b) :\n",
    "    return a/b\n",
    "\n",
    "def bug(a, b) :\n",
    "    return div(a, b)\n",
    "\n",
    "bug(3, 0)"
   ]
  },
  {
   "cell_type": "markdown",
   "metadata": {},
   "source": [
    "3. <br>\n",
    "\n",
    "To print out the value of b inside function bug() using the debugger: <br>\n",
    "\n",
    "(1) Execute $\\textbf{up}$ to make the frame point to the line \"return div(a, b)\", which is in the body of $\\textbf{bug()}$.\n",
    "\n",
    "(2) Execute $\\textbf{display b}$ to print out the value of b, we know that $b = 0$."
   ]
  },
  {
   "cell_type": "markdown",
   "metadata": {},
   "source": [
    "## Problem 2:\n",
    "\n",
    "For the first term of the conditional variance expression of the CIR process discused in the class:\n",
    "\n",
    "$$f(\\kappa) = \\frac{r_0\\sigma^2}{\\kappa}(e^{-\\kappa t} - e^{-2\\kappa t})$$\n",
    "\n",
    "1. compute its condition number, assuming $\\kappa$ is the only variable, comment on whether the computation is stable around $\\kappa = 0$\n",
    "2. implement a function to compute the above expression, which is numerically stable around $\\kappa = 0$. A typical approach is to switch to an approximation when $\\kappa$ is smaller than a threshold $h$. Explain your choice of $h$, is the $h$ different for double or single precision calculation?  "
   ]
  },
  {
   "cell_type": "markdown",
   "metadata": {},
   "source": [
    "### Problem 2 Solution:"
   ]
  },
  {
   "cell_type": "code",
   "execution_count": 6,
   "metadata": {},
   "outputs": [
    {
     "data": {
      "text/latex": [
       "$\\displaystyle \\left|{\\frac{k t \\left(e^{k t} - 2\\right) + e^{k t} - 1}{e^{k t} - 1}}\\right|$"
      ],
      "text/plain": [
       "Abs((k*t*(exp(k*t) - 2) + exp(k*t) - 1)/(exp(k*t) - 1))"
      ]
     },
     "execution_count": 6,
     "metadata": {},
     "output_type": "execute_result"
    }
   ],
   "source": [
    "# Compute the condition number of f(kappa)\n",
    "r, s, k, t = sp.symbols('r, s, k, t')\n",
    "f = (r*s**2/k)*(sp.exp(-k*t) - sp.exp(-2*k*t))\n",
    "condF = sp.simplify(abs(f.diff(k)*k/f))\n",
    "condF"
   ]
  },
  {
   "cell_type": "code",
   "execution_count": 7,
   "metadata": {},
   "outputs": [
    {
     "data": {
      "text/latex": [
       "$\\displaystyle 0$"
      ],
      "text/plain": [
       "0"
      ]
     },
     "execution_count": 7,
     "metadata": {},
     "output_type": "execute_result"
    }
   ],
   "source": [
    "# Compute the condition number of f(kappa) when kappa = 0\n",
    "sp.limit(condF, k, 0)"
   ]
  },
  {
   "cell_type": "code",
   "execution_count": 8,
   "metadata": {},
   "outputs": [
    {
     "data": {
      "text/latex": [
       "$\\displaystyle r s^{2} t$"
      ],
      "text/plain": [
       "r*s**2*t"
      ]
     },
     "execution_count": 8,
     "metadata": {},
     "output_type": "execute_result"
    }
   ],
   "source": [
    "# Find the expression of f(kappa) when kappa = 0\n",
    "sp.limit(f, k, 0)"
   ]
  },
  {
   "cell_type": "code",
   "execution_count": 9,
   "metadata": {},
   "outputs": [
    {
     "data": {
      "text/latex": [
       "$\\displaystyle \\frac{3}{7 t^{2}}$"
      ],
      "text/plain": [
       "3/(7*t**2)"
      ]
     },
     "execution_count": 9,
     "metadata": {},
     "output_type": "execute_result"
    }
   ],
   "source": [
    "# Find the expression of f(kappa) / f''(kappa)\n",
    "# and compute the value when kappa = 0, to compute optimal bump size h\n",
    "g = sp.simplify(f/(f.diff(k)).diff(k))\n",
    "sp.limit(g, k, 0)"
   ]
  },
  {
   "cell_type": "code",
   "execution_count": 10,
   "metadata": {},
   "outputs": [
    {
     "data": {
      "text/plain": [
       "<matplotlib.axes._subplots.AxesSubplot at 0x221b0336898>"
      ]
     },
     "execution_count": 10,
     "metadata": {},
     "output_type": "execute_result"
    },
    {
     "data": {
      "image/png": "[encoded data removed]",
      "text/plain": [
       "<Figure size 432x288 with 1 Axes>"
      ]
     },
     "metadata": {
      "needs_background": "light"
     },
     "output_type": "display_data"
    }
   ],
   "source": [
    "# To simplify the calculation, set all other variables be 0\n",
    "# i.e, r0 = 1, sigma = 1, t = 1\n",
    "r0, sigma, t = 1, 1, 1\n",
    "\n",
    "# define f(kappa) to make plots\n",
    "def f(k):\n",
    "    return (r0 * sigma**2 / k)*(exp(-k*t) - exp(-2*k*t))\n",
    "\n",
    "# Plot the result, the curve of f(kappa) \n",
    "kRange = np.arange(-4e-8, 4e-8, 1e-9)\n",
    "df = pd.DataFrame(np.array([f(kRange)]).T, index = kRange, columns=['f(k)'])\n",
    "df.plot()"
   ]
  },
  {
   "cell_type": "markdown",
   "metadata": {},
   "source": [
    "1. <br>\n",
    "\n",
    "$\\displaystyle f(\\kappa) = \\frac{r_0 \\sigma^2}{\\kappa}(e^{-\\kappa t} - e^{-2\\kappa t}) \\Rightarrow \\frac{df}{d\\kappa} = -\\frac{r_0 \\sigma^2}{\\kappa^2}(e^{-\\kappa t} - e^{-2\\kappa t}) + \\frac{r_0 \\sigma^2}{\\kappa}(- te^{-\\kappa t} + 2te^{-2\\kappa t}) = \\frac{r_0 \\sigma^2}{\\kappa}[(2t+\\frac{1}{\\kappa})e^{-2\\kappa t} - (t+\\frac{1}{\\kappa})e^{-\\kappa t}]$ <br>\n",
    "\n",
    "$\\displaystyle \\Rightarrow k(f) = |\\frac{\\kappa}{f}\\frac{df}{d\\kappa}| = |\\frac{\\kappa}{\\frac{r_0 \\sigma^2}{\\kappa}(e^{-\\kappa t} - e^{-2\\kappa t})}\\frac{r_0 \\sigma^2}{\\kappa}[(2t+\\frac{1}{\\kappa})e^{-2\\kappa t} - (t+\\frac{1}{\\kappa})e^{-\\kappa t}]| = |\\frac{(2\\kappa t + 1)e^{-2\\kappa t} - (\\kappa t + 1)e^{-\\kappa t}}{e^{-\\kappa t} - e^{-2\\kappa t}}| = |-2\\kappa t - 1 + \\frac{\\kappa t e^{-\\kappa t}}{e^{-\\kappa t} - e^{-2\\kappa t}}|$ <br>\n",
    "\n",
    "$\\displaystyle \\lim_{\\kappa \\to 0}\\frac{\\kappa t e^{-\\kappa t}}{e^{-\\kappa t} - e^{-2\\kappa t}} = \\lim_{\\kappa \\to 0}\\frac{t e^{-\\kappa t} - \\kappa t^2 e^{-\\kappa t}}{-te^{-\\kappa t} + 2te^{-2\\kappa t}} = 1 \\Rightarrow \\lim_{\\kappa \\to 0}k(f) = \\lim_{\\kappa \\to 0}|-2\\kappa t - 1 + \\frac{\\kappa t e^{-\\kappa t}}{e^{-\\kappa t} - e^{-2\\kappa t}}| = 0$ <br>\n",
    "\n",
    "Hence the condition number of $f(\\kappa)$ is $\\displaystyle |-2\\kappa t - 1 + \\frac{\\kappa t e^{-\\kappa t}}{e^{-\\kappa t} - e^{-2\\kappa t}}|$, and when $\\kappa = 0$, the condition number is zero, it is well-posed.\n",
    "\n",
    "However, as the plot showed above, we can conclude that the computation is not stable around $\\kappa = 0$ though it is well-posed."
   ]
  },
  {
   "cell_type": "code",
   "execution_count": 11,
   "metadata": {},
   "outputs": [
    {
     "name": "stdout",
     "output_type": "stream",
     "text": [
      "Machine epsion for double precision is: 2.220446049250313e-16 and optimal bump size is: 1.3795794543214909e-08\n",
      "Machine epsion for single precision is: 1.1920929e-07 and optimal bump size is: 0.00031965511265037944\n"
     ]
    },
    {
     "data": {
      "image/png": "[encoded data removed]",
      "text/plain": [
       "<Figure size 432x288 with 1 Axes>"
      ]
     },
     "metadata": {
      "needs_background": "light"
     },
     "output_type": "display_data"
    }
   ],
   "source": [
    "# Find machine epsilon and optimal bump size h* \n",
    "# for single precision and double precision separately\n",
    "singleEpsilon = np.finfo(float32).eps\n",
    "doubleEpsilon = np.finfo(float).eps\n",
    "# Use the expression of f(kappa) / f''(kappa) mentioned above\n",
    "hSingle = np.sqrt(2 * singleEpsilon * 3 / (7 * t**2))\n",
    "hDouble = np.sqrt(2 * doubleEpsilon * 3 / (7 * t**2))\n",
    "\n",
    "# Print results\n",
    "print(\"Machine epsion for double precision is:\", doubleEpsilon, \"and optimal bump size is:\", hDouble)\n",
    "print(\"Machine epsion for single precision is:\", singleEpsilon, \"and optimal bump size is:\", hSingle)\n",
    "\n",
    "# Use the expreesion mentioned above to compute f(kappa = 0)\n",
    "fZero = r0 * sigma**2 * t\n",
    "\n",
    "# Deifne approximation function by applying finite-difference method\n",
    "def fApprox(k):\n",
    "    slope = (f(hDouble) - fZero) / (hDouble)\n",
    "    return k * slope + fZero\n",
    "\n",
    "# Plot the result, the curve of f(kappa) and approximation of f(kappa)\n",
    "kRangeDouble = np.arange(-3e-8, 3e-8, 1e-9)*1e-7\n",
    "df1 = pd.DataFrame(np.array([f(kRangeDouble), fApprox(kRangeDouble)]).T, \n",
    "                   index = kRangeDouble , columns=['f(k)', 'Approximation of f(k)'])\n",
    "df1.plot();"
   ]
  },
  {
   "cell_type": "markdown",
   "metadata": {},
   "source": [
    "2. <br> \n",
    "\n",
    "As the code showed above, we can do the approximation by forward difference method. <br>\n",
    "When $\\kappa$ is around zero, we can approximate $f(\\kappa)$ by $f(\\kappa) = f(0) + \\kappa*f'(h)$ where $h$ is the optimal bump size.\n",
    "From lecture, we know that $h = \\sqrt{\\displaystyle \\frac{2f(\\kappa)\\epsilon_m}{f^{''}(\\kappa)}}$ for forward difference, and we can compute by sympy that $\\displaystyle \\lim_{\\kappa \\to 0}\\frac{f(\\kappa)}{f^{''}(\\kappa)} = \\frac{3}{7t^2}$ <br>\n",
    "\n",
    "Hence we can find the threshold $h$. When $t = 1$, $h = \\sqrt{\\displaystyle \\frac{6\\epsilon_m}{7t^2}}$, and compute $f'(h)$ by $\\displaystyle \\frac{f(h) - f(0)}{h}$. <br>\n",
    "\n",
    "Note that double precision and single presicion has different $\\epsilon_m$, hence $h$ is different for double and single precision calculation. <br>\n",
    "For double precision: $\\epsilon_m$ is 2.220446049250313e-16 and $h$ is 1.3795794543214909e-08. <br>\n",
    "For single precision: $\\epsilon_m$ is 1.1920929e-07 and $h$ is 0.00031965511265037944."
   ]
  },
  {
   "cell_type": "markdown",
   "metadata": {},
   "source": [
    "## Problem 3:\n",
    "\n",
    "Implement a matrix product function using hand coded loops in python, please feel free to use numpy array and numpy vector multiplications, but obviously you should not just call numpy matrix multiplication.\n",
    "\n",
    "Compare the speed of your implementation to the numpy matrix product version, plot the difference in computational time with the size of the matrix.\n",
    "\n",
    "\n",
    "Hint: \n",
    "\n",
    "* %timeit is a useful timing tool in IPython, or you can use time.clock() function\n",
    "* numpy has two ways of representing matrix, one is array of arrays, another is matrix type. For array types, the matrix production is ```a.dot(b)```, for matrix type, the matrix production is ```a*b```. We recommend you to stick with array type to avoid any potential confusions. The ```a*b``` on array type is element wise multiplication. A common mistake is to use ```a*b``` for matrix production on array type. Please see the following code section as an example.\n",
    "* numpy.allclose is a useful function to compare floating point calculation results\n"
   ]
  },
  {
   "cell_type": "markdown",
   "metadata": {},
   "source": [
    "### Problem 3 Solution:"
   ]
  },
  {
   "cell_type": "code",
   "execution_count": 12,
   "metadata": {},
   "outputs": [],
   "source": [
    "#Implement a matrix product function using hand coded loops\n",
    "#Input:\n",
    "#  M1: first matrix\n",
    "#  M2: second matrix\n",
    "#Output:\n",
    "#  result: the matrix multiplication of (M1 x M2)\n",
    "def matrixMul(M1, M2):\n",
    "    # Initialize the result matrix, determine its row and column\n",
    "    resultRow = len(M1)\n",
    "    resultCol = len(M2[0])\n",
    "    result = np.zeros((resultRow, resultCol))\n",
    "    # Do numpy array multiplications for each entry in result matrix\n",
    "    for i in range(resultRow):\n",
    "        for j in range(resultCol):\n",
    "            array1 = M1[i]\n",
    "            array2 = M2[:,j]\n",
    "            result[i][j] = array1.dot(array2)\n",
    "    return result"
   ]
  },
  {
   "cell_type": "code",
   "execution_count": 13,
   "metadata": {},
   "outputs": [
    {
     "data": {
      "text/plain": [
       "Text(0, 0.5, 'Time Difference (s)')"
      ]
     },
     "execution_count": 13,
     "metadata": {},
     "output_type": "execute_result"
    },
    {
     "data": {
      "image/png": "[encoded data removed]",
      "text/plain": [
       "<Figure size 432x288 with 1 Axes>"
      ]
     },
     "metadata": {
      "needs_background": "light"
     },
     "output_type": "display_data"
    }
   ],
   "source": [
    "import time\n",
    "\n",
    "# Set \n",
    "dim = np.arange(1, 101)\n",
    "handLoopTime = np.zeros(100)\n",
    "numpyTime = np.zeros(100)\n",
    "\n",
    "# Recording \n",
    "for i in range(100):\n",
    "    d = dim[i]\n",
    "    M1 = np.arange(1, d ** 2 + 1).reshape(d, d)\n",
    "    M2 = M1 + 1\n",
    "    \n",
    "    handStart = time.clock()\n",
    "    handResult = matrixMul(M1, M2)\n",
    "    handEnd = time.clock()\n",
    "    handLoopTime[i] = handEnd - handStart\n",
    "    \n",
    "    numpyStart = time.clock()\n",
    "    numpyResult = np.matmul(M1, M2)\n",
    "    numpyEnd = time.clock()\n",
    "    numpyTime[i] = numpyEnd - numpyStart\n",
    "    \n",
    "    assert(np.allclose(handResult, numpyResult))\n",
    "\n",
    "# Plot results\n",
    "#plt.plot(dim, handLoopTime, label = 'computational time by hand coded loops')\n",
    "#plt.plot(dim, numpyTime, label = 'computational time by numpy matrix product')\n",
    "plt.plot(dim, handLoopTime - numpyTime)\n",
    "plt.title('Computaional Time Difference v.s. Matrix Size')\n",
    "plt.xlabel('Matrix Size')\n",
    "plt.ylabel('Time Difference (s)')"
   ]
  },
  {
   "cell_type": "markdown",
   "metadata": {},
   "source": [
    "The plot of difference in computational time with the size of the matrix, between my hand coded loop matrix multiplication method and numpy method is showed above. For matrix multiplication, hand coded loop method always takes more time than numpy method. <br>\n",
    "\n",
    "We may conclude that the time difference $dt$ is positive correlated with the size of matrix $n$, which means that as matrix size increases, applying hand coded loop method will waste more time, comparing with applying numpy method.\n",
    "\n",
    "Also, it seems that $dt \\propto n^a$, where $a \\in (2, 3)$."
   ]
  },
  {
   "cell_type": "code",
   "execution_count": null,
   "metadata": {},
   "outputs": [],
   "source": [
    "a = np.array([[1, 2, 3], [4, 5, 6], [7, 8, 9]])\n",
    "b = a + 1\n",
    "print(\"a=\\n\", a)\n",
    "print(\"\\nb=\\n\", b)\n",
    "c = a.dot(b) # matrix product\n",
    "d = a*b #elment wise multiplication\n",
    "\n",
    "print(\"\\nc=a.dot(b)\\n\", c)\n",
    "print(\"\\nd=a*b\\n\", d)"
   ]
  },
  {
   "cell_type": "markdown",
   "metadata": {},
   "source": [
    "## Book problems (from Goodman and Bindel Book)"
   ]
  },
  {
   "cell_type": "markdown",
   "metadata": {},
   "source": [
    "### 2.8\n",
    "\n",
    "Hint: \n",
    "\n",
    "* The extra credit part of this problem is rather involved, you are encouraged to try but there is no need to spend too much time.\n",
    "* In python, floating point numbers are double precision by default, but you can force them to be single precision by calling numpy.float32, please see the following example:"
   ]
  },
  {
   "cell_type": "markdown",
   "metadata": {},
   "source": [
    "### Book Problem 2.8 Solution:"
   ]
  },
  {
   "cell_type": "code",
   "execution_count": 14,
   "metadata": {},
   "outputs": [
    {
     "data": {
      "text/plain": [
       "<matplotlib.legend.Legend at 0x221b252f320>"
      ]
     },
     "execution_count": 14,
     "metadata": {},
     "output_type": "execute_result"
    },
    {
     "data": {
      "image/png": "[encoded data removed]",
      "text/plain": [
       "<Figure size 432x288 with 1 Axes>"
      ]
     },
     "metadata": {
      "needs_background": "light"
     },
     "output_type": "display_data"
    }
   ],
   "source": [
    "# Works for double precision in part(a)\n",
    "\n",
    "# Set f0 = p0 = 0, f1 = p1 = 1\n",
    "f0_64, p0_64 = np.float64(1.), np.float64(1.)\n",
    "f1_64, p1_64 = np.float64(1.), np.float64(1.)\n",
    "c64 = np.float64(1 + sqrt(3) / 100) # c to compute p_k\n",
    "\n",
    "# Set the index of f and p\n",
    "k = np.arange(101)\n",
    "# Initialize the npArray to store f_k and p_k\n",
    "fArray64, pArray64 = np.zeros(101), np.zeros(101)\n",
    "fArray64[0], fArray64[1] = f0_64, f1_64\n",
    "pArray64[0], pArray64[1] = p0_64, p1_64\n",
    "\n",
    "# Compute f_k and p_k\n",
    "for i in range(1, 100):\n",
    "    fArray64[i + 1] = np.float64(fArray64[i] + fArray64[i - 1])\n",
    "    pArray64[i + 1] = np.float64(c64 * pArray64[i] + pArray64[i - 1])\n",
    "\n",
    "# Plot results\n",
    "plt.plot(k, fArray64, label = \"f_k\")\n",
    "plt.plot(k, pArray64, label = \"p_k\")\n",
    "plt.axhline(np.float64(1 / doubleEpsilon), label = \"1 / eps64\")\n",
    "plt.yscale(\"log\")\n",
    "plt.legend(loc = 4)"
   ]
  },
  {
   "cell_type": "code",
   "execution_count": 15,
   "metadata": {},
   "outputs": [
    {
     "data": {
      "text/plain": [
       "<matplotlib.legend.Legend at 0x221b25d5b00>"
      ]
     },
     "execution_count": 15,
     "metadata": {},
     "output_type": "execute_result"
    },
    {
     "data": {
      "image/png": "[encoded data removed]",
      "text/plain": [
       "<Figure size 432x288 with 1 Axes>"
      ]
     },
     "metadata": {
      "needs_background": "light"
     },
     "output_type": "display_data"
    }
   ],
   "source": [
    "# Works for single precision in part(a)\n",
    "\n",
    "# Set f0 = p0 = 1, f1 = p1 = 1\n",
    "f0_32, p0_32 = np.float32(1.), np.float32(1.)\n",
    "f1_32, p1_32 = np.float32(1.), np.float32(1.)\n",
    "c32 = np.float32(1 + sqrt(3) / 100) # c to compute p_k\n",
    "\n",
    "# Set the index of f and p\n",
    "k = np.arange(101)\n",
    "# Initialize the npArray to store f_k and p_k\n",
    "fArray32, pArray32 = np.zeros(101), np.zeros(101)\n",
    "fArray32[0], fArray32[1] = f0_32, f1_32\n",
    "pArray32[0], pArray32[1] = p0_32, p1_32\n",
    "\n",
    "# Compute f_k and p_k\n",
    "for i in range(1, 100):\n",
    "    fArray32[i + 1] = np.float32(fArray32[i] + fArray32[i - 1])\n",
    "    pArray32[i + 1] = np.float32(c32 * pArray32[i] + pArray32[i - 1])\n",
    "\n",
    "# Plot results\n",
    "plt.plot(k, fArray32, label = \"f_k\")\n",
    "plt.plot(k, pArray32, label = \"p_k\")\n",
    "plt.axhline(np.float32(1 / singleEpsilon), label = \"1 / eps32\")\n",
    "plt.yscale(\"log\")\n",
    "plt.legend(loc = 4)"
   ]
  },
  {
   "cell_type": "markdown",
   "metadata": {},
   "source": [
    "(a) <br>\n",
    "The plot of $f_n$ and $p_n$ separately computed by single precision and double precision are showed above, blue horizontal line refers to $1/\\epsilon_m$ for different precision."
   ]
  },
  {
   "cell_type": "code",
   "execution_count": 16,
   "metadata": {},
   "outputs": [
    {
     "name": "stdout",
     "output_type": "stream",
     "text": [
      "The beginning value n results in no accuracy for the recomputed f0_hat in double precision is: 78 .\n",
      "The beginning value n results in no accuracy for the recomputed f0_hat in single precision is: 36 .\n"
     ]
    },
    {
     "data": {
      "text/plain": [
       "<matplotlib.legend.Legend at 0x221b27a4e10>"
      ]
     },
     "execution_count": 16,
     "metadata": {},
     "output_type": "execute_result"
    },
    {
     "data": {
      "image/png": "[encoded data removed]",
      "text/plain": [
       "<Figure size 432x288 with 1 Axes>"
      ]
     },
     "metadata": {
      "needs_background": "light"
     },
     "output_type": "display_data"
    }
   ],
   "source": [
    "# Works for part(b)\n",
    "\n",
    "n = np.arange(2, 101)\n",
    "\n",
    "# Double precision\n",
    "f0Hat64 = np.zeros(99) # The npArray to store recomputed f0_hat\n",
    "fRes64 = -1 # The value n where accuracy lost for f0_hat\n",
    "# Loop to recompute f0_hat by each n from 2 to 101\n",
    "for i in range(2, 101):\n",
    "    # Initialize npArray to recompute f0_hat from f_i\n",
    "    fArrayRev64 = np.zeros(i + 1)\n",
    "    fArrayRev64[-1], fArrayRev64[-2] = fArray64[i], fArray64[i - 1]\n",
    "    # Loop to recompute f0_hat\n",
    "    for j in range(i - 1, 0, -1):\n",
    "        fArrayRev64[j - 1] = np.float64(fArrayRev64[j + 1] - fArrayRev64[j])\n",
    "    # Record recomputed f0_hat from f_i\n",
    "    f0Hat64[i - 2] = fArrayRev64[0]\n",
    "    \n",
    "    # Record the value n where accuracy lost for f0_hat\n",
    "    if (fArrayRev64[0] != fArray64[0] and fRes64 == -1):\n",
    "        fRes64 = i\n",
    "\n",
    "#Single precision\n",
    "f0Hat32 = np.zeros(99) # The npArray to store recomputed f0_hat\n",
    "fRes32 = -1 # The value n where accuracy lost for f0_hat\n",
    "# Loop to recompute f0_hat by each n from 2 to 101\n",
    "for i in range(2, 101):\n",
    "    # Initialize npArray to recompute f0_hat from f_i\n",
    "    fArrayRev32 = np.zeros(i + 1)\n",
    "    fArrayRev32[-1], fArrayRev32[-2] = fArray32[i], fArray32[i - 1]\n",
    "    # Loop to recompute f0_hat\n",
    "    for j in range(i - 1, 0, -1):\n",
    "        fArrayRev32[j - 1] = np.float32(fArrayRev32[j + 1] - fArrayRev32[j])\n",
    "    # Record recomputed f0_hat from f_i\n",
    "    f0Hat32[i - 2] = fArrayRev32[0]\n",
    "    \n",
    "    # Record the value n where accuracy lost for f0_hat\n",
    "    if (fArrayRev32[0] != fArray32[0] and fRes32 == -1):\n",
    "        fRes32 = i\n",
    "    \n",
    "# Plot and print results\n",
    "print(\"The beginning value n results in no accuracy for the recomputed f0_hat in double precision is:\", fRes64, \".\")\n",
    "print(\"The beginning value n results in no accuracy for the recomputed f0_hat in single precision is:\", fRes32, \".\")\n",
    "plt.plot(n, f0Hat64, label = \"Double precision\")\n",
    "plt.plot(n, f0Hat32, label = \"Single precision\")\n",
    "plt.title(\"Beginnig value n v.s. accuracy lost for recomputed f0_hat\", y = 1.08)\n",
    "plt.xlabel('n')\n",
    "plt.ylabel('Difference between f0 and f0_hat')\n",
    "plt.legend()"
   ]
  },
  {
   "cell_type": "markdown",
   "metadata": {},
   "source": [
    "(b) <br>\n",
    "The plot for the difference between the original $f_0 = 1$ and the recomputed $\\hat{f_0}$ as a function of $n$ is showed above. <br>\n",
    "From the results showed above, we know that for double preciison, no accuracy for $\\hat{f_0}$ happens when $n \\geq 78$, and for single precision, $n \\geq 36$. <br>\n",
    "The accuracy lost faster for single precision since the relative error of representing a real number by single precision is more than double precision. And more relative error will be happened if doing calculation for two real numbers by representing single precision, so the lost of accuracy accumulate faster."
   ]
  },
  {
   "cell_type": "code",
   "execution_count": 17,
   "metadata": {},
   "outputs": [
    {
     "name": "stdout",
     "output_type": "stream",
     "text": [
      "The beginning value n results in no accuracy for the recomputed p0_hat in double precision is: 6 .\n",
      "The beginning value n results in no accuracy for the recomputed p0_hat in single precision is: 2 .\n"
     ]
    },
    {
     "data": {
      "text/plain": [
       "<matplotlib.legend.Legend at 0x221b37c97f0>"
      ]
     },
     "execution_count": 17,
     "metadata": {},
     "output_type": "execute_result"
    },
    {
     "data": {
      "image/png": "[encoded data removed]",
      "text/plain": [
       "<Figure size 432x288 with 1 Axes>"
      ]
     },
     "metadata": {
      "needs_background": "light"
     },
     "output_type": "display_data"
    }
   ],
   "source": [
    "# Works for part(c)\n",
    "\n",
    "# Double precision\n",
    "p0Hat64 = np.zeros(99) # The npArray to store recomputed p0_hat\n",
    "pRes64 = -1 # The value n where accuracy lost for p0_hat\n",
    "# Loop to recompute p0_hat by each n from 2 to 101\n",
    "for i in range(2, 101):\n",
    "    # Initialize npArray to recompute p0_hat from p_i\n",
    "    pArrayRev64 = np.zeros(i + 1)\n",
    "    pArrayRev64[-1], pArrayRev64[-2] = pArray64[i], pArray64[i - 1]\n",
    "    # Loop to recompute p0_hat\n",
    "    for j in range(i - 1, 0, -1):\n",
    "        pArrayRev64[j - 1] = np.float64(pArrayRev64[j + 1] - c64 * pArrayRev64[j])\n",
    "    # Record recomputed p0_hat from p_i\n",
    "    p0Hat64[i - 2] = pArrayRev64[0]\n",
    "    \n",
    "    # Record the value n where accuracy lost for p0_hat\n",
    "    if (pArrayRev64[0] != pArray64[0] and pRes64 == -1):\n",
    "        pRes64 = i\n",
    "\n",
    "#Single precision\n",
    "p0Hat32 = np.zeros(99) # The npArray to store recomputed p0_hat\n",
    "pRes32 = -1 # The value n where accuracy lost for p0_hat\n",
    "# Loop to recompute p0_hat by each n from 2 to 101\n",
    "for i in range(2, 101):\n",
    "    # Initialize npArray to recompute p0_hat from p_i\n",
    "    pArrayRev32 = np.zeros(i + 1)\n",
    "    pArrayRev32[-1], pArrayRev32[-2] = pArray32[i], pArray32[i - 1]\n",
    "    # Loop to recompute p0_hat\n",
    "    for j in range(i - 1, 0, -1):\n",
    "        pArrayRev32[j - 1] = np.float32(pArrayRev32[j + 1] - c32 * pArrayRev32[j])\n",
    "    # Record recomputed p0_hat from p_i\n",
    "    p0Hat32[i - 2] = pArrayRev32[0]\n",
    "    \n",
    "    # Record the value n where accuracy lost for p0_hat\n",
    "    if (pArrayRev32[0] != pArray32[0] and pRes32 == -1):\n",
    "        pRes32 = i\n",
    "\n",
    "# Plot and print results\n",
    "print(\"The beginning value n results in no accuracy for the recomputed p0_hat in double precision is:\", pRes64, \".\")\n",
    "print(\"The beginning value n results in no accuracy for the recomputed p0_hat in single precision is:\", pRes32, \".\")\n",
    "plt.plot(n, p0Hat64, label = \"Double precision\")\n",
    "plt.plot(n, p0Hat32, label = \"Single precision\")\n",
    "plt.title(\"Beginnig value n v.s. accuracy lost for recomputed p0_hat\", y = 1.08)\n",
    "plt.xlabel('n')\n",
    "plt.ylabel('Difference between p0 and p0_hat')\n",
    "plt.legend()"
   ]
  },
  {
   "cell_type": "markdown",
   "metadata": {},
   "source": [
    "(c) <br>\n",
    "The plot for the difference between the original $p_0 = 1$ and the recomputed $\\hat{p_0}$ as a function of $n$ is showed above. From the results showed above, we know that for double preciison, no accuracy for $\\hat{p_0}$ happens when $n \\geq 6$, and for single precision, $n \\geq 2$. <br>\n",
    "The striking difference in the way precision is lost between $f$ and $p$ is because we have $c = 1 + \\sqrt{3}/100$ when computing $\\hat{p_0}$, $\\sqrt{3}/100$ is a small number and will cause unavoidable relative error when representing it by floating number(also greater error by single precision). Hence the lost of accuracy for $p$ accumulate much more faster than $f$.\n",
    "\n",
    "Extra Credit:\n",
    "\n",
    "I guess that the order of magnitude of the error in recomputing $p_0$ where $p_{k - 1} = p_{k + 1} - p_k$ is proportional to the order of $\\displaystyle \\frac{1}{(c - 1)\\epsilon_{m}}$."
   ]
  },
  {
   "cell_type": "code",
   "execution_count": null,
   "metadata": {},
   "outputs": [],
   "source": [
    "a = np.float32(1.)\n",
    "b = np.float64(1.)\n",
    "\n",
    "print(type(a), type(b))"
   ]
  }
 ],
 "metadata": {
  "kernelspec": {
   "display_name": "Python 3",
   "language": "python",
   "name": "python3"
  },
  "language_info": {
   "codemirror_mode": {
    "name": "ipython",
    "version": 3
   },
   "file_extension": ".py",
   "mimetype": "text/x-python",
   "name": "python",
   "nbconvert_exporter": "python",
   "pygments_lexer": "ipython3",
   "version": "3.6.8"
  }
 },
 "nbformat": 4,
 "nbformat_minor": 1
}
