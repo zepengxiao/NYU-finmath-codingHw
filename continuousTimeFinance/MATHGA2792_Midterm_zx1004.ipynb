{
 "cells": [
  {
   "cell_type": "markdown",
   "metadata": {},
   "source": [
    "**Zepeng Xiao, zx1004** <br>\n",
    "\n",
    "# **Using Monte Carlo** <br>\n",
    "\n",
    "(a) solution: <br>\n",
    "\n",
    "In the risk neutral measure, the price of the call should be the current value of the expectation of call's payoff.\n",
    "\n",
    "Let $p, v$ be the call's payoff and price, respectively: $\\displaystyle v = e^{-r(T - t)}\\mathbb{E}[p \\ \\vert \\ \\mathcal{F}_t]$ \n",
    "\n",
    "- When $\\displaystyle S_u \\leq B$ for some $\\displaystyle u \\in (t, T) \\Rightarrow \\mathbb{1}_{S_u > B, \\ \\forall \\, u \\in (t, T)} = 0$, <br>\n",
    "hence the payoff of this call is $\\displaystyle p = 0 = (S_T - K)_{+}\\mathbb{1}_{S_u > B, \\ \\forall \\, u \\in (t, T)}$ <br>\n",
    "\n",
    "- When $\\displaystyle S_u > B, \\ \\forall \\, u \\in (t, T) \\Rightarrow \\mathbb{1}_{S_u > B, \\ \\forall \\, u \\in (t, T)} = 1$, <br>\n",
    "hence the payoff of this call is $\\displaystyle p = (S_T - K)_{+} = (S_T - K)_{+}\\mathbb{1}_{S_u > B, \\ \\forall \\, u \\in (t, T)}$ <br>\n",
    "\n",
    "Hence $\\displaystyle (S_T - K)_{+}\\mathbb{1}_{S_u > B, \\ \\forall \\, u \\in (t, T)}$ is exactly the payoff of this call.\n",
    "\n",
    "Therefore, the price of this option is: $$\\displaystyle v = e^{-r(T - t)}\\mathbb{E}[(S_T - K)_{+}\\mathbb{1}_{S_u > B, \\ \\forall \\, u \\in (t, T)} \\ \\vert \\ \\mathcal{F}_t]$$"
   ]
  },
  {
   "cell_type": "code",
   "execution_count": 1,
   "metadata": {},
   "outputs": [
    {
     "name": "stdout",
     "output_type": "stream",
     "text": [
      "     0          1          2          3          4          5         6    \\\n",
      "0  100.0  98.356201  96.455484  96.517981  96.862312  98.575936  97.52034   \n",
      "\n",
      "         7          8           9    ...         243         244         245  \\\n",
      "0  97.641496  99.580532  101.301502  ...  113.186652  113.490267  116.104558   \n",
      "\n",
      "        246         247         248         249         250         251  \\\n",
      "0  117.0164  114.945605  118.642378  119.729023  121.205131  120.894002   \n",
      "\n",
      "          252  \n",
      "0  121.764142  \n",
      "\n",
      "[1 rows x 253 columns]\n"
     ]
    }
   ],
   "source": [
    "# Question (b)\n",
    "\n",
    "import numpy as np\n",
    "import pandas as pd\n",
    "\n",
    "np.random.seed(11078211)\n",
    "\n",
    "# the function that generate a geometric Brownian Motion path\n",
    "# @input:\n",
    "#     T: time to maturity\n",
    "#     N: the number of time step in this path\n",
    "#     r: drift rate\n",
    "#     sigma: volatility\n",
    "#     S0: initial stock price\n",
    "# @return: the geometric Brownian Motion path\n",
    "def MCpath(T, N, r, sigma, S0):\n",
    "    dt = T * 1. / N # compute time interval\n",
    "    path = np.zeros(N + 1) # initialize an array to store the path\n",
    "    path[0] = S0 # set initial price\n",
    "    for i in range(N):\n",
    "        # apply Euler method to generate price for each time step\n",
    "        dW = np.random.normal(0, np.sqrt(dt))\n",
    "        dS = r * path[i] * dt + sigma * path[i] * dW\n",
    "        path[i + 1] = path[i] + dS\n",
    "    return path\n",
    "\n",
    "path = MCpath(T= 1, N = 252, r = .02, sigma = .20, S0 = 100)\n",
    "print(pd.DataFrame(path.reshape(1, 253)))"
   ]
  },
  {
   "cell_type": "markdown",
   "metadata": {},
   "source": [
    "(b): <br>\n",
    "\n",
    "The program that computes one trajectory of $S_t$ for $t < T$ is showed above.\n",
    "\n",
    "Also, one sample trajectory computed by this program is showed above. <br>\n",
    "\n"
   ]
  },
  {
   "cell_type": "code",
   "execution_count": 2,
   "metadata": {},
   "outputs": [
    {
     "name": "stdout",
     "output_type": "stream",
     "text": [
      "The payoff of the call computed by the path generated in (b) is: 11.764141755851014\n"
     ]
    }
   ],
   "source": [
    "# Question (c)\n",
    "\n",
    "# the function that compute the payoff of the barrier call option\n",
    "# given a stock price path follows geometric Brownian Motion\n",
    "# @input:\n",
    "#     path: the stock price path follows geometric Brownian Motion\n",
    "#     B: the barrier\n",
    "#     K: the strike price\n",
    "# @return: the payoff of barrier call option\n",
    "def MCpathValue(path, B, K):\n",
    "    # if barrier is reached, the payoff will be zero \n",
    "    if (np.all(path > B)):\n",
    "        return max(path[-1] - K,0)\n",
    "    # if not, compute payoff as the vanilla European call\n",
    "    else:\n",
    "        return 0\n",
    "\n",
    "# price the path that generated in question (b)\n",
    "print(\"The payoff of the call computed by the path generated in (b) is:\", \n",
    "      MCpathValue(path = path, B = 80, K = 110))"
   ]
  },
  {
   "cell_type": "markdown",
   "metadata": {},
   "source": [
    "(c): <br>\n",
    "\n",
    "The program that takes the list of values computed in (b) and returns the payoff of the option is showed above.\n",
    "\n",
    "Also, the payoff of the sample trajectory generated in (b) is showed above. <br>\n",
    "\n"
   ]
  },
  {
   "cell_type": "code",
   "execution_count": 3,
   "metadata": {},
   "outputs": [
    {
     "name": "stdout",
     "output_type": "stream",
     "text": [
      "The price of call when applying Monte Carlo method is:  4.883948533685356\n"
     ]
    }
   ],
   "source": [
    "# Question (d)\n",
    "\n",
    "# the function that price the barrier call option by Monte Carlo\n",
    "# @input:\n",
    "#     T: time to maturity\n",
    "#     N: the number of time step in this path\n",
    "#     r: drift rate\n",
    "#     sigma: volatility\n",
    "#     S0: initial stock price\n",
    "#     B: the barrier\n",
    "#     K: the strike price\n",
    "#     Np: number of path that will be gererated\n",
    "# @return: the payoff of barrier call option\n",
    "def MCcallValue(T, N, r, sigma, S0, B, K, Np):\n",
    "    sum = 0\n",
    "    # generate paths, and compute the payoff of each path\n",
    "    for j in range(Np):\n",
    "        samplePath = MCpath(T, N, r, sigma, S0)\n",
    "        sum += MCpathValue(samplePath, B, K)\n",
    "    # the discount value of the average of the payoff will be the price\n",
    "    return sum * np.exp(-r * T) / Np\n",
    "\n",
    "print(\"The price of call when applying Monte Carlo method is: \", \n",
    "      MCcallValue(1, 252, .02, .20, 100, 80, 110, 100000))"
   ]
  },
  {
   "cell_type": "markdown",
   "metadata": {},
   "source": [
    "(d): <br>\n",
    "\n",
    "The program that applying Monte Carlo to price the barrier call option is mentioned above.\n",
    "\n",
    "When using $10^5$ trajectories, we know that the price of call is 4.883948533685356."
   ]
  }
 ],
 "metadata": {
  "kernelspec": {
   "display_name": "Python 3",
   "language": "python",
   "name": "python3"
  },
  "language_info": {
   "codemirror_mode": {
    "name": "ipython",
    "version": 3
   },
   "file_extension": ".py",
   "mimetype": "text/x-python",
   "name": "python",
   "nbconvert_exporter": "python",
   "pygments_lexer": "ipython3",
   "version": "3.7.3"
  }
 },
 "nbformat": 4,
 "nbformat_minor": 2
}
