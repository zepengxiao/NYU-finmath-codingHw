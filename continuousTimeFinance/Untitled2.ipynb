{
 "cells": [
  {
   "cell_type": "code",
   "execution_count": 1,
   "metadata": {},
   "outputs": [
    {
     "name": "stdout",
     "output_type": "stream",
     "text": [
      "The price of call given by analytical solution of PDE is:  4.920256808220372\n"
     ]
    }
   ],
   "source": [
    "# Question (o)\n",
    "\n",
    "import numpy as np\n",
    "import scipy.stats as spst\n",
    "\n",
    "# the function that price a European vanilla call by B-S formula\n",
    "# @input:\n",
    "#     S0: initial stock price\n",
    "#     K: strike price\n",
    "#     T: time to maturity\n",
    "#     r: drift rate\n",
    "#     sigma: volatility\n",
    "# @return: the vanilla European call price\n",
    "def BS_euro_call(S0, K, T, r, sigma): \n",
    "    d1 = (np.log(S0 / K) + (r + 0.5 * sigma ** 2) * T) / (sigma * np.sqrt(T))\n",
    "    d2 = (np.log(S0 / K) + (r - 0.5 * sigma ** 2) * T) / (sigma * np.sqrt(T))\n",
    "    # apply black-scholes formula\n",
    "    call = (S0 * spst.norm.cdf(d1, 0.0, 1.0) - \n",
    "            K * np.exp(-r * T) * spst.norm.cdf(d2, 0.0, 1.0))\n",
    "    return call\n",
    "\n",
    "# apply analytical formula to price the call and display the result\n",
    "r, sigma = .02, .2\n",
    "S0, K, B, T = 100, 110, 80, 1\n",
    "alpha = (1 - 2 * r / (sigma ** 2)) / 2 \n",
    "price = BS_euro_call(S0, K, T, r, sigma) - (S0 / B)**(2*alpha) * BS_euro_call(B ** 2 / S0, K, T, r, sigma)\n",
    "\n",
    "print(\"The price of call given by analytical solution of PDE is: \", price)"
   ]
  }
 ],
 "metadata": {
  "kernelspec": {
   "display_name": "Python 3",
   "language": "python",
   "name": "python3"
  },
  "language_info": {
   "codemirror_mode": {
    "name": "ipython",
    "version": 3
   },
   "file_extension": ".py",
   "mimetype": "text/x-python",
   "name": "python",
   "nbconvert_exporter": "python",
   "pygments_lexer": "ipython3",
   "version": "3.7.3"
  }
 },
 "nbformat": 4,
 "nbformat_minor": 2
}
