{
 "cells": [
  {
   "cell_type": "markdown",
   "metadata": {},
   "source": [
    "## (m) solution:"
   ]
  },
  {
   "cell_type": "code",
   "execution_count": 1,
   "metadata": {},
   "outputs": [
    {
     "name": "stdout",
     "output_type": "stream",
     "text": [
      "The price of call solved by PDE with initial price $100 is:  4.916733625244888\n"
     ]
    }
   ],
   "source": [
    "# Question (m)\n",
    "\n",
    "# Apply PDE to price the given barrier call option\n",
    "\n",
    "import numpy as np\n",
    "\n",
    "# define parameters\n",
    "x, K = 100., 110. # initial price, strike price\n",
    "B, R = 80., 300. # barrier, big constant value\n",
    "t, T = 0., 1. # initial time, maturity\n",
    "Nx, Nt = 2200, 252 # number of price grid, time grid\n",
    "r, sigma = .02, .2 # drift rate, volatility\n",
    "\n",
    "# compute small price interval and time interval\n",
    "dx = (R - B) / Nx\n",
    "dt = (T - t) / Nt\n",
    "\n",
    "# construct M given by question (l)\n",
    "M = np.zeros((Nx + 1, Nx + 1))\n",
    "for k in range(Nx + 1):\n",
    "    if (k == 0 or k == Nx):\n",
    "        M[k][k] = 1\n",
    "    else:\n",
    "        M[k][k] = 1 + r*dt + ((sigma**2 * (B + k*dx)**2 * dt) / (dx ** 2))\n",
    "        M[k][k + 1] = -((r*(B + k*dx))/(2*dx) + (sigma**2 * (B + k*dx)**2)/(2 * dx**2))*dt\n",
    "        M[k][k - 1] = ((r*(B + k*dx))/(2*dx) - (sigma**2 * (B + k*dx)**2)/(2 * dx**2))*dt\n",
    "\n",
    "# construct V_{Nt}, vector for final conditions\n",
    "Vcurrent = np.zeros(Nx + 1)\n",
    "for k in range(Nx + 1):\n",
    "    Vcurrent[k] = max((B + k*dx) - K, 0)\n",
    "\n",
    "invM = np.linalg.inv(M)\n",
    "# apply recursive relation to compute V0\n",
    "for j in range(Nt - 1, -1, -1):\n",
    "    Vnext = np.matmul(invM, Vcurrent)\n",
    "    Vnext[0] = 0\n",
    "    # boundary correction\n",
    "    Vnext[-1] = R - np.exp(r*(-(T - j*dt)))*K\n",
    "    Vcurrent = Vnext\n",
    "    \n",
    "# choose the value in V0 that represent the price of call \n",
    "# when initial price is 100, and display the result\n",
    "print(\"The price of call solved by PDE with initial price $100 is: \", Vcurrent[200])"
   ]
  },
  {
   "cell_type": "markdown",
   "metadata": {},
   "source": [
    "From the code and the result showed above, we know that the PDE solution of this call price is 4.916733625244888."
   ]
  }
 ],
 "metadata": {
  "kernelspec": {
   "display_name": "Python 3",
   "language": "python",
   "name": "python3"
  },
  "language_info": {
   "codemirror_mode": {
    "name": "ipython",
    "version": 3
   },
   "file_extension": ".py",
   "mimetype": "text/x-python",
   "name": "python",
   "nbconvert_exporter": "python",
   "pygments_lexer": "ipython3",
   "version": "3.7.3"
  }
 },
 "nbformat": 4,
 "nbformat_minor": 2
}
