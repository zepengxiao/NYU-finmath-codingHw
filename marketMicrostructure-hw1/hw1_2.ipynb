{
 "cells": [
  {
   "cell_type": "code",
   "execution_count": 1,
   "metadata": {},
   "outputs": [],
   "source": [
    "import numpy as np\n",
    "import pandas as pd\n",
    "import matplotlib.pyplot as plt\n",
    "import datetime as dt\n",
    "from datetime import timedelta\n",
    "import pytz\n",
    "from pytz import timezone\n",
    "%matplotlib inline"
   ]
  },
  {
   "cell_type": "code",
   "execution_count": 2,
   "metadata": {},
   "outputs": [],
   "source": [
    "# Construct two data frames\n",
    "# One called dfCBL collect all informations for CBL file\n",
    "# The other called dfNBBO collect all informations for CBL-NBBO file\n",
    "dates = ['01', '02', '03', '06', '07', '08', '09', '10', '13', '14', '15', '16', \n",
    "        '17', '20', '21', '22', '23', '24', '27', '28', '29', '30']\n",
    "\n",
    "def mytimeparser1(x):\n",
    "    if (len(x) == 8):\n",
    "        return dt.datetime.strptime(x + \".000\", '%H:%M:%S.%f').replace(tzinfo=pytz.UTC).time()\n",
    "    elif (len(x) == 5):\n",
    "        return dt.datetime.strptime(x + \":00.000\", '%H:%M:%S.%f').replace(tzinfo=pytz.UTC).time()\n",
    "    else:\n",
    "        return dt.datetime.strptime(x, '%H:%M:%S.%f').replace(tzinfo=pytz.UTC).time()\n",
    "\n",
    "dfCBL = pd.read_csv('CBL.2008-10-01', delimiter = '|', \n",
    "                    names = ('symbology','date','time','price','size','exchange',\n",
    "                             'saleconditions','iscorrection','iscancel','isopen','isclose'),\n",
    "                    parse_dates=['time'], date_parser = mytimeparser1)\n",
    "    \n",
    "for date in dates[1:]:\n",
    "    newdf = pd.read_csv('CBL.2008-10-' + date, delimiter = '|', \n",
    "                        names = ('symbology','date','time','price','size','exchange',\n",
    "                                 'saleconditions','iscorrection','iscancel','isopen','isclose'),\n",
    "                        parse_dates=['time'], date_parser = mytimeparser1)\n",
    "    dfCBL = pd.concat([dfCBL, newdf], ignore_index=True)"
   ]
  },
  {
   "cell_type": "code",
   "execution_count": 3,
   "metadata": {},
   "outputs": [],
   "source": [
    "dfNBBO = pd.read_csv('CBL-NBBO.2008-10-01', delimiter = '|', \n",
    "                     names = ('symbology','timestamp','exchange','bidprice','bidsize',\n",
    "                              'askprice','asksize','bestbidprice','bestbidsize','bestaskprice','bestasksize'),\n",
    "                     encoding = \"iso-8859-1\", parse_dates = ['timestamp'] )\n",
    "\n",
    "for date in dates[1:]:\n",
    "    newdf = pd.read_csv('CBL-NBBO.2008-10-' + date, delimiter = '|', \n",
    "                      names = ('symbology','timestamp','exchange','bidprice','bidsize',\n",
    "                               'askprice','asksize','bestbidprice','bestbidsize','bestaskprice','bestasksize'),\n",
    "                      encoding = \"iso-8859-1\", parse_dates = ['timestamp'] )\n",
    "    dfNBBO = pd.concat([dfNBBO, newdf], ignore_index=True)\n",
    "\n",
    "dfNBBO['timestamp'] = dfNBBO['timestamp'].dt.tz_convert('US/Eastern')\n",
    "dfNBBO['time'] = dfNBBO['timestamp'].dt.time"
   ]
  },
  {
   "cell_type": "code",
   "execution_count": 6,
   "metadata": {},
   "outputs": [],
   "source": [
    "# Work for problem 2.2\n",
    "# Extract all columns that can be used to tag trade\n",
    "timeCBL = dfCBL['time']\n",
    "priceCBL = dfCBL['price']\n",
    "dateCBL = dfCBL['date']\n",
    "dateNBBO = dfNBBO['timestamp']\n",
    "timeNBBO = dfNBBO['time']\n",
    "bidNBBO = dfNBBO['bestbidprice']\n",
    "askNBBO = dfNBBO['bestaskprice']\n",
    "\n",
    "# Initialize an array of to record tag\n",
    "length = len(priceCBL)\n",
    "tradeCBL = [0] * length\n",
    "\n",
    "# This function determine the trade given trade price and corresponding quote\n",
    "# @input:\n",
    "# currPrice: trade price\n",
    "# bidPrice: bid price for the quote\n",
    "# askPrice: ask price for the quote\n",
    "# i: the index of the trade, specifying the order\n",
    "# quote: a boolean to tell if we can do quote test, true means can, false means cannot\n",
    "# @return: a tag that specify trade as \"Buy\" or \"Sell\" or \"Cannot tell\"\n",
    "def tradeTag(currPrice, bidPrice, askPrice, i, quote):\n",
    "    if (askPrice > bidPrice and quote): # check if spread exist and we can do quote test\n",
    "        # spread exists, so apply quote test first, use midPrice as the classification price\n",
    "        midPrice = (askPrice + bidPrice) / 2.0\n",
    "        if (currPrice > midPrice):\n",
    "            return \"Buy\"\n",
    "        elif (currPrice < midPrice):\n",
    "            return \"Sell\"\n",
    "        else: # price equal to midPrice, apply tick test, find uptick or downtick\n",
    "            prevI = i - 1\n",
    "            # find a previous price that is different from current price\n",
    "            while (priceCBL[prevI] == priceCBL[i] and prevI >= 1):\n",
    "                prevI -= 1\n",
    "            if (priceCBL[i] > priceCBL[prevI]):\n",
    "                return \"Buy\"\n",
    "            elif (priceCBL[i] < priceCBL[prevI]):\n",
    "                return \"Sell\"\n",
    "            else:\n",
    "                # No previous price different from current price, tick test still fail\n",
    "                return \"Cannot tell\"\n",
    "    else:\n",
    "        # spread does not exist or cannot do quote test, directly apply tick test\n",
    "        prevI = i - 1\n",
    "        # find a previous price that is different from current price\n",
    "        while (priceCBL[prevI] == priceCBL[i] and prevI >= 1):\n",
    "            prevI -= 1\n",
    "        if (priceCBL[i] > priceCBL[prevI]):\n",
    "            return \"Buy\"\n",
    "        elif (priceCBL[i] < priceCBL[prevI]):\n",
    "            return \"Sell\"\n",
    "        else:\n",
    "            # No previous price different from current price, tick test still fail\n",
    "            return \"Cannot tell\"\n",
    "\n",
    "j = 0 # j is the index in dfNBBO\n",
    "for i in range(length): # i is the index in dfCBL\n",
    "    if (not i):\n",
    "        # current time and trade price\n",
    "        currTime = timeCBL[i]\n",
    "        currPrice = priceCBL[i]\n",
    "        # find the quote whose time is before current time\n",
    "        while ((currTime.second - timeNBBO[j + 1].second) + 60 * (currTime.minute - timeNBBO[j + 1].minute) \n",
    "               + 3600 * (currTime.hour - timeNBBO[j + 1].hour) >= 0):\n",
    "            j += 1\n",
    "        # record quote information\n",
    "        bidPrice, askPrice = bidNBBO[j], askNBBO[j]\n",
    "        # check if this quote could be the prevailing quote\n",
    "        if ((currTime.second - timeNBBO[j + 1].second) + 60 * (currTime.minute - timeNBBO[j + 1].minute) \n",
    "               + 3600 * (currTime.hour - timeNBBO[j + 1].hour) <= 1):\n",
    "            # this quote could be the prevailing quote, we can apply quote test\n",
    "            tradeCBL[i] = tradeTag(currPrice, bidPrice, askPrice, i, True)\n",
    "        else:\n",
    "            # this quote could not be the prevailing quote, we cannot apply quote test\n",
    "            tradeCBL[i] = tradeTag(currPrice, bidPrice, askPrice, i, False)\n",
    "    else:\n",
    "        # check if the date is changed\n",
    "        if (dateCBL[i] != dateCBL[i - 1]):\n",
    "            # if the date is changed, move j to the beginning of new date\n",
    "            day = dt.datetime.strptime(dateCBL[i], '%Y-%m-%d').day\n",
    "            while (dateNBBO[j].day < day):\n",
    "                j += 1\n",
    "            # current time and trade price\n",
    "            currTime = timeCBL[i]\n",
    "            currPrice = priceCBL[i]\n",
    "            # check if the first quote of this date is before first trade\n",
    "            if ((currTime.second - timeNBBO[j].second) + 60 * (currTime.minute - timeNBBO[j].minute) \n",
    "                   + 3600 * (currTime.hour - timeNBBO[j].hour) < 0):\n",
    "                # the first quote of this date is after first trade, so no prevailing quote, cannot apply quote test\n",
    "                bidPrice, askPrice = bidNBBO[j], askNBBO[j]\n",
    "                tradeCBL[i] = tradeTag(currPrice, bidPrice, askPrice, i, False)\n",
    "            else:\n",
    "                # the first quote of this date is before first trade, prevailing quote may exist\n",
    "                # find the quote whose time is before current time\n",
    "                while ((currTime.second - timeNBBO[j + 1].second) + 60 * (currTime.minute - timeNBBO[j + 1].minute) \n",
    "                       + 3600 * (currTime.hour - timeNBBO[j + 1].hour) >= 0):\n",
    "                    j += 1\n",
    "                # record quote information\n",
    "                bidPrice, askPrice = bidNBBO[j], askNBBO[j]\n",
    "                # check if this quote could be the prevailing quote\n",
    "                if ((currTime.second - timeNBBO[j + 1].second) + 60 * (currTime.minute - timeNBBO[j + 1].minute) \n",
    "                       + 3600 * (currTime.hour - timeNBBO[j + 1].hour) <= 1):\n",
    "                    # this quote could be the prevailing quote, we can apply quote test\n",
    "                    tradeCBL[i] = tradeTag(currPrice, bidPrice, askPrice, i, True)\n",
    "                else:\n",
    "                    # this quote could not be the prevailing quote, we cannot apply quote test\n",
    "                    tradeCBL[i] = tradeTag(currPrice, bidPrice, askPrice, i, False)\n",
    "        else:\n",
    "            # current time and trade price\n",
    "            currTime = timeCBL[i]\n",
    "            currPrice = priceCBL[i]\n",
    "            # find the quote whose time is before current time\n",
    "            while ((currTime.second - timeNBBO[j + 1].second) + 60 * (currTime.minute - timeNBBO[j + 1].minute) \n",
    "                    + 3600 * (currTime.hour - timeNBBO[j + 1].hour) >= 0 and dateNBBO[j + 1].day == dateNBBO[j].day):\n",
    "                j += 1\n",
    "            # check if this quote could be the prevailing quote\n",
    "            if ((currTime.second - timeNBBO[j + 1].second) + 60 * (currTime.minute - timeNBBO[j + 1].minute) \n",
    "                    + 3600 * (currTime.hour - timeNBBO[j + 1].hour) <= 1):\n",
    "                # this quote could be the prevailing quote, we can apply quote test\n",
    "                tradeCBL[i] = tradeTag(currPrice, bidPrice, askPrice, i, True)\n",
    "            else:\n",
    "                # this quote could not be the prevailing quote, we cannot apply quote test\n",
    "                tradeCBL[i] = tradeTag(currPrice, bidPrice, askPrice, i, False)"
   ]
  },
  {
   "cell_type": "code",
   "execution_count": 7,
   "metadata": {},
   "outputs": [
    {
     "name": "stdout",
     "output_type": "stream",
     "text": [
      "Number of trades that tagged as buy = 76202\n",
      "Number of trades that tagged as sell = 189857\n"
     ]
    }
   ],
   "source": [
    "# print results\n",
    "print(\"Number of trades that tagged as buy =\", tradeCBL.count(\"Buy\"))\n",
    "print(\"Number of trades that tagged as sell =\", tradeCBL.count(\"Sell\"))\n",
    "# convert the tag array as a column of the data frame tradeCBL\n",
    "dfCBL['tradeTag'] = tradeCBL \n",
    "dfCBL"
   ]
  },
  {
   "cell_type": "code",
   "execution_count": 8,
   "metadata": {},
   "outputs": [],
   "source": [
    "# Work for problem 2.3\n",
    "# initial delta and mu\n",
    "delta, mu = [0.5], 0.05\n",
    "\n",
    "# update delta by the tag we have\n",
    "for i in range(1, length):\n",
    "    if (tradeCBL[i] == \"Buy\"):\n",
    "        nextDelta = delta[-1]*((1-mu)/(-2*delta[-1]*mu + mu + 1))\n",
    "        delta.append(nextDelta)\n",
    "    else:\n",
    "        nextDelta = delta[-1]*((1 + mu)/(2*delta[-1]*mu - mu + 1))\n",
    "        delta.append(nextDelta)\n",
    "        \n",
    "# construct an array to display date time for each trade\n",
    "dateTimeCBL = [dt.datetime.combine(dt.datetime.strptime(dateCBL[i], '%Y-%m-%d'), timeCBL[i]) for i in range(length)]"
   ]
  },
  {
   "cell_type": "code",
   "execution_count": 10,
   "metadata": {},
   "outputs": [
    {
     "data": {
      "text/plain": [
       "Text(0.5, 1.0, 'The actual price')"
      ]
     },
     "execution_count": 10,
     "metadata": {},
     "output_type": "execute_result"
    },
    {
     "data": {
      "image/png": "[encoded data removed]",
      "text/plain": [
       "<Figure size 1152x864 with 2 Axes>"
      ]
     },
     "metadata": {
      "needs_background": "light"
     },
     "output_type": "display_data"
    }
   ],
   "source": [
    "# plot results\n",
    "fig = plt.figure(figsize = (16,12))\n",
    "ax1 = plt.subplot(211)\n",
    "ax2 = plt.subplot(212, sharex = ax1)\n",
    "ax1.plot_date(x = dateTimeCBL, y = delta, markersize = 1)\n",
    "ax2.plot_date(x = dateTimeCBL, y = priceCBL, markersize = 1)\n",
    "ax1.set_title('The sequence delta_k (prob that price goes down) for the whole month')\n",
    "ax2.set_title('The actual price')\n",
    "#plt.savefig('Problem3.2.png')"
   ]
  }
 ],
 "metadata": {
  "kernelspec": {
   "display_name": "Python 3",
   "language": "python",
   "name": "python3"
  },
  "language_info": {
   "codemirror_mode": {
    "name": "ipython",
    "version": 3
   },
   "file_extension": ".py",
   "mimetype": "text/x-python",
   "name": "python",
   "nbconvert_exporter": "python",
   "pygments_lexer": "ipython3",
   "version": "3.7.3"
  }
 },
 "nbformat": 4,
 "nbformat_minor": 2
}
