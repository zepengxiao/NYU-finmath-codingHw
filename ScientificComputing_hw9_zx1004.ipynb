{
 "cells": [
  {
   "cell_type": "markdown",
   "metadata": {},
   "source": [
    "# Homework Set 9"
   ]
  },
  {
   "cell_type": "code",
   "execution_count": 1,
   "metadata": {},
   "outputs": [
    {
     "name": "stdout",
     "output_type": "stream",
     "text": [
      "Populating the interactive namespace from numpy and matplotlib\n"
     ]
    }
   ],
   "source": [
    "%pylab inline\n",
    "import pandas as pd\n",
    "import fmt"
   ]
  },
  {
   "cell_type": "markdown",
   "metadata": {},
   "source": [
    "## Problem 1\n",
    "\n",
    "\n",
    "Similar to our example in class, here is the table of future liabilities (in $millions):\n",
    "\n",
    "|  Years | 1 | 2 | 3 | 4 | 5 | 6 | 7 | 8 | 9 |\n",
    "| :-----: | :----: | :----: | :----: | :----: | :----: | :----: | :----: | :----: | :----: |\n",
    "|  Benefits($millions) | 24 | 26 | 28 | 28 | 26 | 29 | 32 | 33 | 34 |\n",
    "\n",
    "\n",
    "And here is the set of bonds that can be invested in:\n",
    "\n",
    "|  Bonds | 1 | 2 | 3 | 4 | 5 | 6 | 7 | 8 | 9 | 10 | 11 | 12 |\n",
    "| :-----: | :----: | :----: | :----: | :----: | :----: | :----: | :----: | :----: | :----: | :----: | :----: | :----: |\n",
    "|  Price | 102 | 101.625 | 103 | 102 | 102 | 103 | 101 | 101.5 | 102 | 102.75 | 103 | 104 |\n",
    "|  Coupon(%) | 1.25 | 1.5 | 2.5 | 1.75 | 2.125 | 2.5 | 2.625 | 3 | 3.125 | 3.5 |  3.75 | 4.5 |\n",
    "|  Maturity(Years) | 1 | 2 | 2 | 3 | 4 | 5 | 5 | 6 | 7 | 8 |  8 | 9 |\n",
    "\n",
    "\n",
    "Consider two excess cash scenarios: 1) not reused at each period. 2) reinvested at 1% interest rate and reused. \n",
    "Find the **least cost** portfolio of bonds so that the pension fund can meet its future liabilities. Please show your LP problem set up.\n"
   ]
  },
  {
   "cell_type": "markdown",
   "metadata": {},
   "source": [
    "### Problem 1 Solution:"
   ]
  },
  {
   "cell_type": "markdown",
   "metadata": {},
   "source": [
    "1) not resued at each period: <br>\n",
    "\n",
    "Similar to the setup in lecture notebook, we could set up the LP problem as follows: <br>\n",
    "\n",
    "\\begin{aligned}\n",
    "\\min_x \\, & \\, (\\sum_i x_iP_i) \\\\\n",
    "\\text{s.t. } \\sum_{i = 1, \\ldots, 12}\\Big[(\\mathbf{1}_{M_i \\geq k}C_i(t) + \\mathbf{1}_{M_i = k}\\cdot 100)x_i\\Big] \\, & \\, -s_k+s_{k-1} = L_k, \\ k = 1,\\ldots, 9 \\\\\n",
    "x_i \\geq 0, \\, & \\, i = 1,\\ldots,12 \\\\\n",
    "s_k \\geq 0, \\, & \\, k = 1,\\dots, 9\n",
    "\\end{aligned}\n",
    "\n",
    "where: \n",
    "\n",
    "$\\displaystyle L_k, k=1, \\dots, 9$ are the future benefits (liabilities) payment at year $k$, $\\displaystyle L = \\begin{bmatrix} 24 & 26 & 28 & 28 & 26 & 29 & 32 & 33 & 34\\end{bmatrix}$\n",
    "\n",
    "$\\displaystyle P_i, i=1, \\dots, 12$ are the prices of bond $i$, $\\displaystyle P = \\begin{bmatrix} 102 & 101.625 & 103 & 102 & 102 & 103 & 101 & 101.5 & 102 & 102.75 & 103 & 104 \\end{bmatrix}$\n",
    "\n",
    "$\\displaystyle C_i, i=1, \\dots, 12$ are the coupons of bond $i$, $\\displaystyle C = \\begin{bmatrix} 1.25 & 1.5 & 2.5 & 1.75 & 2.125 & 2.5 & 2.625 & 3 & 3.125 & 3.5 & 3.75 & 4.5 \\end{bmatrix}$\n",
    "\n",
    "$\\displaystyle M_i, i=1, \\dots, 12$ are the maturity of bond $i$, $\\displaystyle M = \\begin{bmatrix} 1 & 2 & 2 & 3 & 4 & 5 & 5 & 6 & 7 & 8 & 8 & 9 \\end{bmatrix}$\n",
    "\n",
    "$\\displaystyle x_i, i=1, \\dots,12$ are the amount of bond $i$ to be purchased\n",
    "\n",
    "$\\displaystyle s_k, k=1, \\dots, 9$ are the free cash at the end of year $k$"
   ]
  },
  {
   "cell_type": "code",
   "execution_count": 2,
   "metadata": {},
   "outputs": [
    {
     "name": "stdout",
     "output_type": "stream",
     "text": [
      "Primal Feasibility  Dual Feasibility    Duality Gap         Step             Path Parameter      Objective          \n",
      "1.0                 1.0                 1.0                 -                1.0                 1227.875            \n",
      "0.289826388189      0.289826388189      0.289826388189      0.7234645774057  0.2898263881888     526.0511248698      \n",
      "0.05888453529251    0.0588845352925     0.0588845352925     0.8180161648527  0.05888453529156    257.5159985632      \n",
      "0.003198270909714   0.003198270901429   0.003198270901428   0.949073755942   0.003198269880027   226.4927295439      \n",
      "3.798814444046e-06  3.798793902363e-06  3.798793902236e-06  0.9988790271259  3.797144395748e-06  225.1292438115      \n",
      "1.206437872427e-10  1.209259759945e-10  1.209260676991e-10  0.9999681672442  1.898633809655e-10  225.1276886124      \n",
      "Optimization terminated successfully.\n",
      "         Current function value: 225.127689  \n",
      "         Iterations: 5\n",
      "[1.76159487e-01 2.15046709e-11 1.98361481e-01 2.23320518e-01\n",
      " 2.27228627e-01 5.68086362e-12 2.12057235e-01 2.47623738e-01\n",
      " 2.85052450e-01 4.18477723e-11 3.03960339e-01 3.25358852e-01\n",
      " 3.06138213e-10 3.24244605e-08 1.12771487e-10 1.97872014e-10\n",
      " 1.21691001e-10 2.63544083e-10 1.71966924e-10 9.47315342e-11\n",
      " 5.39315080e-11]\n"
     ]
    },
    {
     "data": {
      "text/html": [
       "<center><font size=2><table border=\"1\" class=\"dataframe\">\n",
       "  <thead>\n",
       "    <tr style=\"text-align: right;\">\n",
       "      <th></th>\n",
       "      <th>Bond 1</th>\n",
       "      <th>Bond 2</th>\n",
       "      <th>Bond 3</th>\n",
       "      <th>Bond 4</th>\n",
       "      <th>Bond 5</th>\n",
       "      <th>Bond 6</th>\n",
       "      <th>Bond 7</th>\n",
       "      <th>Bond 8</th>\n",
       "      <th>Bond 9</th>\n",
       "      <th>Bond 10</th>\n",
       "      <th>Bond 11</th>\n",
       "      <th>Bond 12</th>\n",
       "    </tr>\n",
       "  </thead>\n",
       "  <tbody>\n",
       "    <tr>\n",
       "      <th>The amount to be purchased:</th>\n",
       "      <td>0.1762</td>\n",
       "      <td>2.15e-11</td>\n",
       "      <td>0.1984</td>\n",
       "      <td>0.2233</td>\n",
       "      <td>0.2272</td>\n",
       "      <td>5.681e-12</td>\n",
       "      <td>0.2121</td>\n",
       "      <td>0.2476</td>\n",
       "      <td>0.2851</td>\n",
       "      <td>4.185e-11</td>\n",
       "      <td>0.304</td>\n",
       "      <td>0.3254</td>\n",
       "    </tr>\n",
       "  </tbody>\n",
       "</table></font></center>"
      ],
      "text/plain": [
       "<IPython.core.display.HTML object>"
      ]
     },
     "metadata": {},
     "output_type": "display_data"
    }
   ],
   "source": [
    "import numpy as np\n",
    "from scipy.optimize import linprog\n",
    "\n",
    "# Define arrays of future liabilities L, bonds price p, bonds coupon and bonds maturity\n",
    "Coupon = np.array([1.25, 1.5, 2.5, 1.75, 2.125, 2.5, 2.625, 3, 3.125, 3.5, 3.75, 4.5])\n",
    "Maturity = np.array([1, 2, 2, 3, 4, 5, 5, 6, 7, 8, 8, 9])\n",
    "\n",
    "p = np.array([102., 101.625, 103., 102., 102., 103., 101., 101.5, 102, 102.75, 103., 104., \n",
    "             0, 0, 0, 0, 0, 0, 0, 0, 0])\n",
    "L = np.array([24., 26., 28., 28., 26., 29., 32., 33., 34.])\n",
    "\n",
    "# Define matrix of constraints for cash flow could not be reused\n",
    "A1 = np.zeros((len(L), len(p)))\n",
    "for i in range(len(L)):\n",
    "    lenC = len(Coupon)\n",
    "    for j in range(lenC):\n",
    "        if (i <= Maturity[j] - 1):\n",
    "            A1[i, j] += Coupon[j]\n",
    "            if (i == Maturity[j] - 1):\n",
    "                A1[i, j] += 100\n",
    "    A1[i, i + lenC] = -1.\n",
    "    if (i):\n",
    "        A1[i, i + lenC - 1] = 1.\n",
    "\n",
    "# solve LP and display the result\n",
    "res1 = linprog(p, A_eq=A1, b_eq=L,\n",
    "                options={ 'disp': True})\n",
    "print(res1.x)\n",
    "\n",
    "Bonds = [\"Bond 1\", \"Bond 2\", \"Bond 3\", \"Bond 4\", \"Bond 5\", \"Bond 6\", \n",
    "        \"Bond 7\", \"Bond 8\", \"Bond 9\", \"Bond 10\", \"Bond 11\", \"Bond 12\"]\n",
    "fmt.displayDF(pd.DataFrame([res1.x[0:len(Coupon)]], columns = Bonds, \n",
    "                           index = ['The amount to be purchased: ']), fmt=\"4g\")"
   ]
  },
  {
   "cell_type": "markdown",
   "metadata": {},
   "source": [
    "The least cost portfolio of bonds that excess cash could not be reused at each period, is showed above."
   ]
  },
  {
   "cell_type": "markdown",
   "metadata": {},
   "source": [
    "2) reinvested at 1% interest rate and reused\n",
    "\n",
    "Using the same notation as we have defined in scenario 1), note that now reinvestment is allowed.\n",
    "\n",
    "Then the free cash at the end of year $k - 1$, $s_{k - 1}$ would become $1.01 s_{k - 1}$ when we consider the cashflow in year $k$.\n",
    "\n",
    "Hence the set up is as follows: \n",
    "\n",
    "\\begin{aligned}\n",
    "\\min_x \\, & \\, (\\sum_i x_iP_i) \\\\\n",
    "\\text{s.t. } \\sum_{i = 1, \\ldots, 12}\\Big[(\\mathbf{1}_{M_i \\geq k}C_i(t) + \\mathbf{1}_{M_i = k}\\cdot 100)x_i\\Big] \\, & \\, -s_k+1.01s_{k-1} = L_k, \\ k = 1,\\ldots, 9 \\\\\n",
    "x_i \\geq 0, \\, & \\, i = 1,\\ldots,12 \\\\\n",
    "s_k \\geq 0, \\, & \\, k = 1,\\dots, 9\n",
    "\\end{aligned}"
   ]
  },
  {
   "cell_type": "code",
   "execution_count": 3,
   "metadata": {},
   "outputs": [
    {
     "name": "stdout",
     "output_type": "stream",
     "text": [
      "Primal Feasibility  Dual Feasibility    Duality Gap         Step             Path Parameter      Objective          \n",
      "1.0                 1.0                 1.0                 -                1.0                 1227.875            \n",
      "0.2856812482536     0.2856812482536     0.2856812482536     0.727444637814   0.2856812482535     525.1285643698      \n",
      "0.05504862933328    0.05504862933327    0.05504862933327    0.8280143880858  0.05504862933313    256.3516800595      \n",
      "0.003259098770232   0.00325909878595    0.00325909878595    0.944055471749   0.003259101060402   226.5627418177      \n",
      "2.894665257858e-05  2.894664905442e-05  2.894664905418e-05  0.9914229659132  2.894661996677e-05  225.1395087105      \n",
      "4.518432204902e-09  4.494211373691e-09  4.49421121961e-09   0.9998449447309  1.529541437403e-09  225.1276903907      \n",
      "Optimization terminated successfully.\n",
      "         Current function value: 225.127690  \n",
      "         Iterations: 5\n",
      "[1.76159489e-01 5.24653292e-11 1.98361503e-01 2.23320501e-01\n",
      " 2.27228628e-01 1.98533313e-11 2.12057239e-01 2.47623739e-01\n",
      " 2.85052451e-01 1.25255405e-10 3.03960342e-01 3.25358853e-01\n",
      " 1.65317352e-09 1.85523780e-06 2.95681800e-10 1.70243702e-09\n",
      " 1.21309104e-09 5.05063091e-10 1.39715626e-09 7.00026814e-10\n",
      " 1.71880307e-10]\n"
     ]
    },
    {
     "data": {
      "text/html": [
       "<center><font size=2><table border=\"1\" class=\"dataframe\">\n",
       "  <thead>\n",
       "    <tr style=\"text-align: right;\">\n",
       "      <th></th>\n",
       "      <th>Bond 1</th>\n",
       "      <th>Bond 2</th>\n",
       "      <th>Bond 3</th>\n",
       "      <th>Bond 4</th>\n",
       "      <th>Bond 5</th>\n",
       "      <th>Bond 6</th>\n",
       "      <th>Bond 7</th>\n",
       "      <th>Bond 8</th>\n",
       "      <th>Bond 9</th>\n",
       "      <th>Bond 10</th>\n",
       "      <th>Bond 11</th>\n",
       "      <th>Bond 12</th>\n",
       "    </tr>\n",
       "  </thead>\n",
       "  <tbody>\n",
       "    <tr>\n",
       "      <th>The amount to be purchased:</th>\n",
       "      <td>0.1762</td>\n",
       "      <td>5.247e-11</td>\n",
       "      <td>0.1984</td>\n",
       "      <td>0.2233</td>\n",
       "      <td>0.2272</td>\n",
       "      <td>1.985e-11</td>\n",
       "      <td>0.2121</td>\n",
       "      <td>0.2476</td>\n",
       "      <td>0.2851</td>\n",
       "      <td>1.253e-10</td>\n",
       "      <td>0.304</td>\n",
       "      <td>0.3254</td>\n",
       "    </tr>\n",
       "  </tbody>\n",
       "</table></font></center>"
      ],
      "text/plain": [
       "<IPython.core.display.HTML object>"
      ]
     },
     "metadata": {},
     "output_type": "display_data"
    }
   ],
   "source": [
    "# Define matrix of constraints for cash flow that could be reinvested at 1% interest rate and reused\n",
    "A2 = np.zeros((len(L), len(p)))\n",
    "for i in range(len(L)):\n",
    "    lenC = len(Coupon)\n",
    "    for j in range(lenC):\n",
    "        if (i <= Maturity[j] - 1):\n",
    "            A2[i, j] += Coupon[j]\n",
    "            if (i == Maturity[j] - 1):\n",
    "                A2[i, j] += 100\n",
    "    A2[i, i + lenC] = -1.\n",
    "    if (i):\n",
    "        A2[i, i + lenC - 1] = 1.01\n",
    "\n",
    "# solve LP and display the result\n",
    "res2 = linprog(p, A_eq=A2, b_eq=L,\n",
    "                options={ 'disp': True})\n",
    "\n",
    "print(res2.x)\n",
    "\n",
    "fmt.displayDF(pd.DataFrame([res2.x[0:len(Coupon)]], columns = Bonds, \n",
    "                           index = ['The amount to be purchased: ']), fmt=\"4g\")"
   ]
  },
  {
   "cell_type": "markdown",
   "metadata": {},
   "source": [
    "The least cost portfolio of bonds that excess cash could be reinvested at 1% interest rate and reused, is showed above."
   ]
  }
 ],
 "metadata": {
  "kernelspec": {
   "display_name": "Python 3",
   "language": "python",
   "name": "python3"
  },
  "language_info": {
   "codemirror_mode": {
    "name": "ipython",
    "version": 3
   },
   "file_extension": ".py",
   "mimetype": "text/x-python",
   "name": "python",
   "nbconvert_exporter": "python",
   "pygments_lexer": "ipython3",
   "version": "3.6.8"
  }
 },
 "nbformat": 4,
 "nbformat_minor": 1
}
