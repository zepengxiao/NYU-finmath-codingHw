{
 "cells": [
  {
   "cell_type": "markdown",
   "metadata": {},
   "source": [
    "This program is to compute the PnL attributed to each of the factors on each day, and reports the totals. <br>\n",
    "\n",
    "Suppose that there are $N$ stocks, $T$ days and $k$ factors.\n",
    "\n",
    "Let $\\displaystyle r_{n, i}$ be the return of the $n$-th stock on the $i$-th day, <br>\n",
    "$\\displaystyle  \\quad \\ s_{n, i}$ be the number of shares held in the $n$-th stock on the $i$-th day, <br>\n",
    "$\\displaystyle  \\quad \\ f_{j, n, i}$ be the loading of the $j$-th factor in the $n$-th stock on the $i$-th day.\n",
    "\n",
    "The algorithm can be described as below: <br>\n",
    "\n",
    "For each day (loop i from 1 to T):\n",
    "\n",
    "- Get the information of the price of stocks $\\displaystyle p_{\\cdot,i}$, number of shares of the stocks, $\\displaystyle s_{\\cdot,i}$, and factor loadings $f_{\\cdot,\\cdot, i}$ on the $i$-th day. (For example, $\\displaystyle s_{\\cdot,i} = \\begin{bmatrix} s_{1, i} \\\\ \\vdots \\\\ s_{n, i} \\end{bmatrix}$)\n",
    "- Compute the return of stocks $\\displaystyle r_{\\cdot,i}$ by computing the difference between the stock price on the $i$-th day and $i - 1$-th day: $\\displaystyle r_{\\cdot,i} = p_{\\cdot,i} - p_{\\cdot,i - 1}$\n",
    "- Apply GLS regression to $\\displaystyle r_{\\cdot,i}, f_{\\cdot,\\cdot, i}$, so we could write that: $\\displaystyle r_{\\cdot,i} = \\sum_{j = 1}^k b_j f_{j, \\cdot, i} + \\epsilon, \\, f_{j, \\cdot, i} = \\begin{bmatrix} f_{j, 1, i} \\\\ \\vdots \\\\ f_{j, n, i} \\end{bmatrix}$\n",
    "- For each factor (loop j from 1 to k), the PnL attributed on it on the $i$-th day will be: $\\displaystyle \\text{PnL}_{j, i} = b_j (f_{j, \\cdot, i})^Ts_{\\cdot, i}$\n",
    "- The total PnL on the $i$-th day will be: $\\displaystyle \\sum_{j = 1}^k\\text{PnL}_{j, i}$"
   ]
  },
  {
   "cell_type": "code",
   "execution_count": 8,
   "metadata": {},
   "outputs": [],
   "source": [
    "# Question 4, attribute PnL to a set of given factors over time\n",
    "\n",
    "import numpy as np\n",
    "import statsmodels.api as sm\n",
    "\n",
    "def PnL(prices, loadings, shares, price0 = 0):\n",
    "    \n",
    "    '''\n",
    "    the program that computes the PnL attributed to each of the factors on each day and reports the totals\n",
    "    Parameters:\n",
    "       prices: An N*T matrix that represents the prices for a set of N stocks on each of T days, each row is a stock \n",
    "       loadings: A k*N*T matrix that represents the loadings of each of the k factors to each of the N stocks on each \n",
    "                 of the T days\n",
    "       shares: An N*T matrix that represents the number of shares held in the portfolio, in each of the N stocks, on each \n",
    "               of the T days, each row is a stock\n",
    "       price0: A length N array that represents the prices for a set of N stocks on day 0, default will be a zero array\n",
    "    Return: returns a tuple that have two variables\n",
    "       PnL: An k*T matrix that shows the PnL on each of the k factors on each of the T days\n",
    "       totalPnL: A length T array that shows the total PnL on each of the T days\n",
    "    '''\n",
    "    \n",
    "    # extract the number of factors, stocks and days\n",
    "    k = len(loadings)\n",
    "    N = len(prices)\n",
    "    T = len(prices[0])\n",
    "    # initialize arrays to store the result\n",
    "    PnL = np.zeros((k, T))\n",
    "    totalPnL = np.zeros(T)\n",
    "    # if there is no initial price of each of the stock, assume their initial prices are all zero\n",
    "    if (len(price0) == 1 and (not price0)):\n",
    "        price0 = np.zeros(N)\n",
    "\n",
    "    # loop each of the day\n",
    "    for i in range(T):\n",
    "        # the returns on the i-th day\n",
    "        if (not i):\n",
    "            dayReturn = (prices[:,i] - price0).reshape(N, 1)\n",
    "        else:\n",
    "            dayReturn = (prices[:,i] - prices[:,i-1]).reshape(N, 1)\n",
    "        # the loadings of each of the k factors to each of the N stocks on the i-th day\n",
    "        dayLoading = loadings[:,:,i].T\n",
    "        # the number of shares held in the portfolio on the i-th day\n",
    "        dayShare = shares[:,i]\n",
    "        # apply GLM so we could write returns as: r = b1f1 + ... + bkfk\n",
    "        GLMresults = sm.GLM(endog = dayReturn, exog = dayLoading, family=sm.families.Gaussian()).fit()\n",
    "        GLMparams = GLMresults.params\n",
    "\n",
    "        # loop each of the factors\n",
    "        for j in range(k):\n",
    "            # compute PnL on the k-th factor on the i-th day\n",
    "            dayLoadingk = dayLoading[:,j]\n",
    "            PnL[j, i] = GLMparams[j] * np.dot(dayLoadingk, dayShare)\n",
    "        # compute totalPnL on the i-th day\n",
    "        totalPnL[i] = np.sum(PnL[:,i])\n",
    "        \n",
    "    return (PnL, totalPnL)"
   ]
  },
  {
   "cell_type": "code",
   "execution_count": 11,
   "metadata": {},
   "outputs": [
    {
     "name": "stdout",
     "output_type": "stream",
     "text": [
      "2 3 4\n",
      "The PnL attributed to the first factor on each day is: [7.71428571 4.80277778 1.70571429 1.20231254]\n",
      "The PnL attributed to the second factor on each day is: [0.28571429 2.37611111 7.35857143 6.95074982]\n",
      "The total PnL on each day is: [8.         7.17888889 9.06428571 8.15306237]\n"
     ]
    }
   ],
   "source": [
    "# Test if the program works as expected\n",
    "# In this example, there are two factors, three stocks and four days\n",
    "prices = np.array([[1.02, 1.05, 1.07, 1.11], [1.03, 1.06, 1.09, 1.11], [1.03, 1.04, 1.08, 1.10]])\n",
    "price0 = np.array([1, 1, 1])\n",
    "loadings = np.array([[[0.25, 0.35, 0.4, 0.3], [0.35, 0.45, 0.35, 0.25], [0.4, 0.2, 0.25, 0.45]], \n",
    "                    [[0.5, 0.5, 0.2, 0.5], [0.3, 0.3, 0.3, 0.3], [0.2, 0.2, 0.5, 0.2]]])\n",
    "shares = np.array([[100, 95, 98, 103], [100, 102, 98, 99], [100, 103, 104, 98]])\n",
    "\n",
    "PnLresult = PnL(prices, loadings, shares, price0)\n",
    "# display the result\n",
    "print(\"The PnL attributed to the first factor on each day is:\", PnLresult[0][0])\n",
    "print(\"The PnL attributed to the second factor on each day is:\", PnLresult[0][1])\n",
    "print(\"The total PnL on each day is:\", PnLresult[1])"
   ]
  }
 ],
 "metadata": {
  "kernelspec": {
   "display_name": "Python 3",
   "language": "python",
   "name": "python3"
  },
  "language_info": {
   "codemirror_mode": {
    "name": "ipython",
    "version": 3
   },
   "file_extension": ".py",
   "mimetype": "text/x-python",
   "name": "python",
   "nbconvert_exporter": "python",
   "pygments_lexer": "ipython3",
   "version": "3.7.3"
  }
 },
 "nbformat": 4,
 "nbformat_minor": 2
}
